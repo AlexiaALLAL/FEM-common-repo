{
 "cells": [
  {
   "cell_type": "code",
   "execution_count": 1,
   "id": "1b60cd1f",
   "metadata": {},
   "outputs": [],
   "source": [
    "## import\n",
    "using Gmsh"
   ]
  },
  {
   "cell_type": "code",
   "execution_count": 2,
   "id": "d6d14ea1",
   "metadata": {},
   "outputs": [],
   "source": [
    "## initialization\n",
    "Gmsh.initialize()\n",
    "gmsh.model.add(\"mesh\")\n",
    "geo = gmsh.model.geo;"
   ]
  },
  {
   "cell_type": "code",
   "execution_count": 3,
   "id": "8a785cfd",
   "metadata": {},
   "outputs": [
    {
     "data": {
      "text/plain": [
       "0.05"
      ]
     },
     "execution_count": 3,
     "metadata": {},
     "output_type": "execute_result"
    }
   ],
   "source": [
    "## geometric parameters\n",
    "l = 0.5\n",
    "h = 0.5\n",
    "\n",
    "## mesh parameters\n",
    "mshd = 0.05"
   ]
  },
  {
   "cell_type": "code",
   "execution_count": 4,
   "id": "9003eb74",
   "metadata": {},
   "outputs": [],
   "source": [
    "## points\n",
    "geo.addPoint(0, 0, 0, mshd, 1);\n",
    "geo.addPoint(l, 0, 0, mshd, 2);\n",
    "geo.addPoint(l, h, 0, mshd, 3);\n",
    "geo.addPoint(0, h, 0, mshd, 4);"
   ]
  },
  {
   "cell_type": "code",
   "execution_count": 5,
   "id": "de57dac5",
   "metadata": {},
   "outputs": [],
   "source": [
    "## lines\n",
    "geo.addLine(1, 2, 1);\n",
    "geo.addLine(2, 3, 2);\n",
    "geo.addLine(3, 4, 3);\n",
    "geo.addLine(4, 1, 4);"
   ]
  },
  {
   "cell_type": "code",
   "execution_count": 6,
   "id": "d9175ef0",
   "metadata": {},
   "outputs": [],
   "source": [
    "## surfaces\n",
    "geo.addCurveLoop([1, 2, 3, 4], 1);\n",
    "geo.addPlaneSurface([1], 1);"
   ]
  },
  {
   "cell_type": "code",
   "execution_count": 7,
   "id": "72c2eb35",
   "metadata": {},
   "outputs": [
    {
     "data": {
      "text/plain": [
       "2"
      ]
     },
     "execution_count": 7,
     "metadata": {},
     "output_type": "execute_result"
    }
   ],
   "source": [
    "## physical groups\n",
    "geo.addPhysicalGroup(2, [1], 1, \"domain\")\n",
    "geo.addPhysicalGroup(0, [1,2,3,4], 2, \"staticPoints\")"
   ]
  },
  {
   "cell_type": "code",
   "execution_count": 8,
   "id": "a563440c",
   "metadata": {},
   "outputs": [
    {
     "name": "stdout",
     "output_type": "stream",
     "text": [
      "Info    : Meshing 1D...\n",
      "Info    : [  0%] Meshing curve 1 (Line)\n",
      "Info    : [ 30%] Meshing curve 2 (Line)\n",
      "Info    : [ 50%] Meshing curve 3 (Line)\n",
      "Info    : [ 80%] Meshing curve 4 (Line)\n",
      "Info    : Done meshing 1D (Wall 0.000183498s, CPU 0.000164s)\n",
      "Info    : Meshing 2D...\n",
      "Info    : Meshing surface 1 (Plane, Frontal-Delaunay)\n",
      "Info    : Done meshing 2D (Wall 0.00197151s, CPU 0.001725s)\n",
      "Info    : 142 nodes 286 elements\n"
     ]
    }
   ],
   "source": [
    "## create mesh\n",
    "geo.synchronize();\n",
    "gmsh.model.mesh.generate(2);"
   ]
  },
  {
   "cell_type": "code",
   "execution_count": 9,
   "id": "a439f274",
   "metadata": {},
   "outputs": [
    {
     "name": "stdout",
     "output_type": "stream",
     "text": [
      "Info    : Writing './staticMesh.msh'...\n",
      "Info    : Done writing './staticMesh.msh'\n"
     ]
    }
   ],
   "source": [
    "## save\n",
    "gmsh.write(\"./staticMesh.msh\")"
   ]
  },
  {
   "cell_type": "code",
   "execution_count": null,
   "id": "1ffbaa14",
   "metadata": {},
   "outputs": [],
   "source": []
  }
 ],
 "metadata": {
  "kernelspec": {
   "display_name": "Julia 1.8.5",
   "language": "julia",
   "name": "julia-1.8"
  },
  "language_info": {
   "file_extension": ".jl",
   "mimetype": "application/julia",
   "name": "julia",
   "version": "1.8.5"
  }
 },
 "nbformat": 4,
 "nbformat_minor": 5
}
