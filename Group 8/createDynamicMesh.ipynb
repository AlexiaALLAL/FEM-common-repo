{
 "cells": [
  {
   "cell_type": "code",
   "execution_count": 1,
   "id": "10b21205",
   "metadata": {},
   "outputs": [],
   "source": [
    "## import\n",
    "using Gmsh"
   ]
  },
  {
   "cell_type": "code",
   "execution_count": 2,
   "id": "cee37f98",
   "metadata": {},
   "outputs": [],
   "source": [
    "## initialization\n",
    "Gmsh.initialize()\n",
    "gmsh.model.add(\"mesh\")\n",
    "geo = gmsh.model.geo;"
   ]
  },
  {
   "cell_type": "code",
   "execution_count": 3,
   "id": "2d1468ee",
   "metadata": {},
   "outputs": [
    {
     "data": {
      "text/plain": [
       "0.05"
      ]
     },
     "execution_count": 3,
     "metadata": {},
     "output_type": "execute_result"
    }
   ],
   "source": [
    "## geometric parameters\n",
    "l = 0.5\n",
    "h = 0.5\n",
    "\n",
    "## mesh parameters\n",
    "mshd = 0.05"
   ]
  },
  {
   "cell_type": "code",
   "execution_count": 4,
   "id": "725d8b68",
   "metadata": {},
   "outputs": [],
   "source": [
    "## points\n",
    "geo.addPoint(0, 0, 0, mshd, 1);\n",
    "geo.addPoint(l, 0, 0, mshd, 2);\n",
    "geo.addPoint(l, h, 0, mshd, 3);\n",
    "geo.addPoint(0, h, 0, mshd, 4);"
   ]
  },
  {
   "cell_type": "code",
   "execution_count": 5,
   "id": "ed5ddd84",
   "metadata": {},
   "outputs": [],
   "source": [
    "## lines\n",
    "geo.addLine(1, 2, 1);\n",
    "geo.addLine(2, 3, 2);\n",
    "geo.addLine(3, 4, 3);\n",
    "geo.addLine(4, 1, 4);"
   ]
  },
  {
   "cell_type": "code",
   "execution_count": 6,
   "id": "b697d931",
   "metadata": {},
   "outputs": [],
   "source": [
    "## surfaces\n",
    "geo.addCurveLoop([1, 2, 3, 4], 1);\n",
    "geo.addPlaneSurface([1], 1);"
   ]
  },
  {
   "cell_type": "code",
   "execution_count": 7,
   "id": "689353ff",
   "metadata": {},
   "outputs": [
    {
     "data": {
      "text/plain": [
       "3"
      ]
     },
     "execution_count": 7,
     "metadata": {},
     "output_type": "execute_result"
    }
   ],
   "source": [
    "## physical groups\n",
    "geo.addPhysicalGroup(2, [1], 1, \"domain\")\n",
    "geo.addPhysicalGroup(1, [1], 2, \"staticBoundary\")\n",
    "geo.addPhysicalGroup(1, [3], 3, \"setForceBoundary\")"
   ]
  },
  {
   "cell_type": "code",
   "execution_count": 8,
   "id": "49f48993",
   "metadata": {},
   "outputs": [
    {
     "name": "stdout",
     "output_type": "stream",
     "text": [
      "Info    : Meshing 1D...\n",
      "Info    : [  0%] Meshing curve 1 (Line)\n",
      "Info    : [ 30%] Meshing curve 2 (Line)\n",
      "Info    : [ 50%] Meshing curve 3 (Line)\n",
      "Info    : [ 80%] Meshing curve 4 (Line)\n",
      "Info    : Done meshing 1D (Wall 0.00024018s, CPU 0.000246s)\n",
      "Info    : Meshing 2D...\n",
      "Info    : Meshing surface 1 (Plane, Frontal-Delaunay)\n",
      "Info    : Done meshing 2D (Wall 0.00226682s, CPU 0.002266s)\n",
      "Info    : 142 nodes 286 elements\n"
     ]
    }
   ],
   "source": [
    "## create mesh\n",
    "geo.synchronize();\n",
    "gmsh.model.mesh.generate(2);"
   ]
  },
  {
   "cell_type": "code",
   "execution_count": 9,
   "id": "50b13878",
   "metadata": {},
   "outputs": [
    {
     "name": "stdout",
     "output_type": "stream",
     "text": [
      "Info    : Writing './dynamicMesh.msh'...\n",
      "Info    : Done writing './dynamicMesh.msh'\n"
     ]
    }
   ],
   "source": [
    "## save\n",
    "gmsh.write(\"./dynamicMesh.msh\")"
   ]
  },
  {
   "cell_type": "code",
   "execution_count": null,
   "id": "068875ec",
   "metadata": {},
   "outputs": [],
   "source": []
  }
 ],
 "metadata": {
  "kernelspec": {
   "display_name": "Julia 1.8.5",
   "language": "julia",
   "name": "julia-1.8"
  },
  "language_info": {
   "file_extension": ".jl",
   "mimetype": "application/julia",
   "name": "julia",
   "version": "1.8.5"
  }
 },
 "nbformat": 4,
 "nbformat_minor": 5
}
