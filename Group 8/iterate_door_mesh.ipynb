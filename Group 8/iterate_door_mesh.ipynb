{
 "cells": [
  {
   "cell_type": "markdown",
   "id": "c72549d1",
   "metadata": {},
   "source": [
    "# Mesh Iteration"
   ]
  },
  {
   "cell_type": "code",
   "execution_count": null,
   "id": "a30980fc",
   "metadata": {},
   "outputs": [],
   "source": [
    "using gmsh"
   ]
  },
  {
   "cell_type": "code",
   "execution_count": null,
   "id": "7a673962",
   "metadata": {},
   "outputs": [],
   "source": [
    "## initialization\n",
    "if gmsh.isInitialized() != 0\n",
    "    gmsh.finalize()\n",
    "end\n",
    "gmsh.initialize()"
   ]
  },
  {
   "cell_type": "code",
   "execution_count": null,
   "id": "341489f4",
   "metadata": {},
   "outputs": [],
   "source": [
    "# open the mesh file\n",
    "gmsh.open(\"door.msh\")"
   ]
  },
  {
   "cell_type": "code",
   "execution_count": null,
   "id": "da581648",
   "metadata": {},
   "outputs": [],
   "source": [
    "# get the list of all elements and their node tags\n",
    "elemTypes, elemTags, nodeTags = gmsh.model.mesh.getElements()\n",
    "\n",
    "# println(elemTypes) # [4] -> tetrahedron\n",
    "# println(length(elemTags[1]))\n",
    "# println(length(nodeTags[1]))\n",
    "# elementName, dim, order, numNodes, localNodeCoord, numPrimaryNodes = gmsh.model.mesh.getElementProperties(elemTypes[1])\n",
    "# println(elementName) # tetrahedron\n",
    "# println(dim) # 3\n",
    "# println(order) # 1\n",
    "# println(numNodes) # 4\n",
    "# # println(localNodeCoord)\n",
    "# println(numPrimaryNodes) # 4"
   ]
  },
  {
   "cell_type": "code",
   "execution_count": null,
   "id": "c86c05c4",
   "metadata": {},
   "outputs": [],
   "source": [
    "# loop through all the elements and get their points coordinates\n",
    "for element_tag in elemTags[1]\n",
    "    n1 = nodeTags[1][4 * (element_tag - 1) + 1]\n",
    "    n2 = nodeTags[1][4 * (element_tag - 1) + 2]\n",
    "    n3 = nodeTags[1][4 * (element_tag - 1) + 3]\n",
    "    n4 = nodeTags[1][4 * (element_tag - 1) + 4]\n",
    "\n",
    "    coords1, = gmsh.model.mesh.getNode(n1)\n",
    "    coords2, = gmsh.model.mesh.getNode(n2)\n",
    "    coords3, = gmsh.model.mesh.getNode(n3)\n",
    "    coords4, = gmsh.model.mesh.getNode(n4)\n",
    "\n",
    "\n",
    "#     print(\"Element \", element_tag, \": \")\n",
    "#     print(\"n1: \", coords1, \", \")\n",
    "#     print(\"n2: \", coords2, \", \")\n",
    "#     print(\"n3: \", coords3, \", \")\n",
    "#     println(\"n4: \", coords4)\n",
    "end"
   ]
  }
 ],
 "metadata": {
  "kernelspec": {
   "display_name": "Julia 1.8.5",
   "language": "julia",
   "name": "julia-1.8"
  },
  "language_info": {
   "file_extension": ".jl",
   "mimetype": "application/julia",
   "name": "julia",
   "version": "1.8.5"
  }
 },
 "nbformat": 4,
 "nbformat_minor": 5
}
